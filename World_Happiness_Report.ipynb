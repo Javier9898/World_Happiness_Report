{
  "nbformat": 4,
  "nbformat_minor": 0,
  "metadata": {
    "colab": {
      "name": "World Happiness Report",
      "provenance": [],
      "collapsed_sections": [],
      "authorship_tag": "ABX9TyN8ASDGOfdEZ0yujL9kqL26",
      "include_colab_link": true
    },
    "kernelspec": {
      "name": "python3",
      "display_name": "Python 3"
    }
  },
  "cells": [
    {
      "cell_type": "markdown",
      "metadata": {
        "id": "view-in-github",
        "colab_type": "text"
      },
      "source": [
        "<a href=\"https://colab.research.google.com/github/Javier9898/World_Happiness_Report/blob/master/World_Happiness_Report.ipynb\" target=\"_parent\"><img src=\"https://colab.research.google.com/assets/colab-badge.svg\" alt=\"Open In Colab\"/></a>"
      ]
    },
    {
      "cell_type": "markdown",
      "metadata": {
        "id": "kjm7spyW-VdL",
        "colab_type": "text"
      },
      "source": [
        "# **World Happiness Report**\n",
        "\n",
        "\n",
        "---\n",
        "\n"
      ]
    },
    {
      "cell_type": "markdown",
      "metadata": {
        "id": "zW_0eKC7_bg_",
        "colab_type": "text"
      },
      "source": [
        "## **Introduction**\n",
        "The dataset chosen for this analysis is \"World Happiness Report\", which is a landmark survey of the state of global happiness that ranks countries by how happy their citizens perceive themselves to be. It contains articles, and rankings of national happiness based on respondent ratings of their own lives,which the report also correlates with various life factors.\n",
        "\n",
        "There are some interesting alternative approaches to measure a country's happiness as it comes in many different forms and for different reasons and it can be a measure of social progress, according to the authors of the 2013 World Happiness Report. It'll be fascinating to see any correlations between hapiness and regions in the world and what factors contribute to this.\n",
        "\n",
        "\n",
        "Credits: https://www.kaggle.com/unsdsn/world-happiness"
      ]
    },
    {
      "cell_type": "markdown",
      "metadata": {
        "id": "TUDJSEXeGYJJ",
        "colab_type": "text"
      },
      "source": [
        "## **Sources**\n",
        "\n",
        "\n",
        "* Dataset: https://www.kaggle.com/unsdsn/world-happiness\n",
        "* Official World Happiness Report site: https://worldhappiness.report/"
      ]
    },
    {
      "cell_type": "markdown",
      "metadata": {
        "id": "plGwlSuDHveC",
        "colab_type": "text"
      },
      "source": [
        "## **Objectives:**\n",
        "Find the answer to the following questions:\n",
        "\n",
        "1.  What are the correlations between the data? \n",
        "2.  Which factors have the biggest and least impact on happiness?\n",
        "3. Which countries are the most and least happiest? \n",
        "4. How content are we? "
      ]
    },
    {
      "cell_type": "markdown",
      "metadata": {
        "id": "85XHjJUJ1Nk9",
        "colab_type": "text"
      },
      "source": [
        "## **Terms Used in the Dataset**\n",
        "\n",
        "* Overall rank: Rank of the country based on the Happiness Score.\n",
        "* Country or region: Name of the country or region.\n",
        "* Score:\tA metric measured by asking the sampled people the question: \"How would you rate your happiness on a scale from 1 to 10?\".\n",
        "* GDP per capita:\tThe extent to which GDP contributes to the calculation of the Happiness Score.\n",
        "* Social support:\tnetwork of family and friends.\n",
        "* Freedom to make life choices: The extent to which Freedom contributed to the calculation of the Happiness Score.\n",
        "* Healthy life expectancy: The extent to which Life expectancy contributed to the calculation of the Happiness Score.\n",
        "* Generosity:\tThe extent to which Generosity contributed to the calculation of the Happiness Score.\n",
        "* Perceptions of corruption: Perceived levels of public sector corruption.\n",
        "\n"
      ]
    },
    {
      "cell_type": "markdown",
      "metadata": {
        "id": "scjQd6iv2MoG",
        "colab_type": "text"
      },
      "source": [
        "### **Data file:**\n",
        "\n",
        "\n",
        "\n",
        "*   2019.csv\n",
        "\n",
        "\n",
        "---\n",
        "\n",
        "\n",
        "\n",
        "\n"
      ]
    },
    {
      "cell_type": "code",
      "metadata": {
        "id": "xVSogNxM9c63",
        "colab_type": "code",
        "colab": {}
      },
      "source": [
        "import numpy as np #  multi-dimensional arrays and matrices, along with a large collection of high-level mathematical functions\n",
        "import pandas as pd # data manipulation\n",
        "from functools import reduce\n",
        "\n",
        "# data visualization libraries\n",
        "import matplotlib.pyplot as plt  \n",
        "import seaborn as sns \n",
        "import plotly.graph_objs as go\n",
        "from plotly.offline import iplot\n",
        "\n",
        "from zipfile import ZipFile # used in this project to unzip the data"
      ],
      "execution_count": null,
      "outputs": []
    },
    {
      "cell_type": "markdown",
      "metadata": {
        "id": "DgltSt9IOl8y",
        "colab_type": "text"
      },
      "source": [
        "## **1. Reading and Storing Data**"
      ]
    },
    {
      "cell_type": "markdown",
      "metadata": {
        "id": "_r6LL2t-ztpK",
        "colab_type": "text"
      },
      "source": [
        "### **Data Pre-processing**"
      ]
    },
    {
      "cell_type": "code",
      "metadata": {
        "id": "hN5UziRrOXGj",
        "colab_type": "code",
        "colab": {
          "base_uri": "https://localhost:8080/",
          "height": 34
        },
        "outputId": "236e5c29-091b-4955-fc30-c4c7f5812d29"
      },
      "source": [
        "\n",
        "# Unzipping the data\n",
        "file_name = \"894_813759_bundle_archive.zip\"\n",
        "\n",
        "with ZipFile(file_name, 'r') as zip:\n",
        "  zip.extractall()\n",
        "  \n",
        "  print(\"Done\")"
      ],
      "execution_count": null,
      "outputs": [
        {
          "output_type": "stream",
          "text": [
            "Done\n"
          ],
          "name": "stdout"
        }
      ]
    },
    {
      "cell_type": "code",
      "metadata": {
        "id": "XyBBJ_ezy4CP",
        "colab_type": "code",
        "colab": {
          "base_uri": "https://localhost:8080/",
          "height": 34
        },
        "outputId": "345e96d5-d5b3-49b8-9f3d-dd2781d67476"
      },
      "source": [
        "# Storing the data in a Dataframe\n",
        "# Using the latest report \"2019\"\n",
        "data2019 = pd.read_csv(\"2019.csv\")\n",
        "\n",
        "print(\"Done\")"
      ],
      "execution_count": null,
      "outputs": [
        {
          "output_type": "stream",
          "text": [
            "Done\n"
          ],
          "name": "stdout"
        }
      ]
    },
    {
      "cell_type": "code",
      "metadata": {
        "id": "7COCrV3V5uZW",
        "colab_type": "code",
        "colab": {
          "base_uri": "https://localhost:8080/",
          "height": 159
        },
        "outputId": "95bdf267-f295-46cc-c070-7a3678c283ab"
      },
      "source": [
        "data2019.sample(3)"
      ],
      "execution_count": null,
      "outputs": [
        {
          "output_type": "execute_result",
          "data": {
            "text/html": [
              "<div>\n",
              "<style scoped>\n",
              "    .dataframe tbody tr th:only-of-type {\n",
              "        vertical-align: middle;\n",
              "    }\n",
              "\n",
              "    .dataframe tbody tr th {\n",
              "        vertical-align: top;\n",
              "    }\n",
              "\n",
              "    .dataframe thead th {\n",
              "        text-align: right;\n",
              "    }\n",
              "</style>\n",
              "<table border=\"1\" class=\"dataframe\">\n",
              "  <thead>\n",
              "    <tr style=\"text-align: right;\">\n",
              "      <th></th>\n",
              "      <th>Overall rank</th>\n",
              "      <th>Country or region</th>\n",
              "      <th>Score</th>\n",
              "      <th>GDP per capita</th>\n",
              "      <th>Social support</th>\n",
              "      <th>Healthy life expectancy</th>\n",
              "      <th>Freedom to make life choices</th>\n",
              "      <th>Generosity</th>\n",
              "      <th>Perceptions of corruption</th>\n",
              "    </tr>\n",
              "  </thead>\n",
              "  <tbody>\n",
              "    <tr>\n",
              "      <th>29</th>\n",
              "      <td>30</td>\n",
              "      <td>Spain</td>\n",
              "      <td>6.354</td>\n",
              "      <td>1.286</td>\n",
              "      <td>1.484</td>\n",
              "      <td>1.062</td>\n",
              "      <td>0.362</td>\n",
              "      <td>0.153</td>\n",
              "      <td>0.079</td>\n",
              "    </tr>\n",
              "    <tr>\n",
              "      <th>98</th>\n",
              "      <td>99</td>\n",
              "      <td>Ivory Coast</td>\n",
              "      <td>4.944</td>\n",
              "      <td>0.569</td>\n",
              "      <td>0.808</td>\n",
              "      <td>0.232</td>\n",
              "      <td>0.352</td>\n",
              "      <td>0.154</td>\n",
              "      <td>0.090</td>\n",
              "    </tr>\n",
              "    <tr>\n",
              "      <th>130</th>\n",
              "      <td>131</td>\n",
              "      <td>Myanmar</td>\n",
              "      <td>4.360</td>\n",
              "      <td>0.710</td>\n",
              "      <td>1.181</td>\n",
              "      <td>0.555</td>\n",
              "      <td>0.525</td>\n",
              "      <td>0.566</td>\n",
              "      <td>0.172</td>\n",
              "    </tr>\n",
              "  </tbody>\n",
              "</table>\n",
              "</div>"
            ],
            "text/plain": [
              "     Overall rank Country or region  ...  Generosity  Perceptions of corruption\n",
              "29             30             Spain  ...       0.153                      0.079\n",
              "98             99       Ivory Coast  ...       0.154                      0.090\n",
              "130           131           Myanmar  ...       0.566                      0.172\n",
              "\n",
              "[3 rows x 9 columns]"
            ]
          },
          "metadata": {
            "tags": []
          },
          "execution_count": 7
        }
      ]
    },
    {
      "cell_type": "markdown",
      "metadata": {
        "id": "G7B6Yss23mY-",
        "colab_type": "text"
      },
      "source": [
        "### **Checking for NaN**"
      ]
    },
    {
      "cell_type": "code",
      "metadata": {
        "id": "rIZuOAho7acg",
        "colab_type": "code",
        "colab": {
          "base_uri": "https://localhost:8080/",
          "height": 204
        },
        "outputId": "999a348c-489b-4761-8d3f-eeb8299172b0"
      },
      "source": [
        "print(\"Number of NaN values:\")\n",
        "data2019.isnull().sum()"
      ],
      "execution_count": null,
      "outputs": [
        {
          "output_type": "stream",
          "text": [
            "Number of NaN values:\n"
          ],
          "name": "stdout"
        },
        {
          "output_type": "execute_result",
          "data": {
            "text/plain": [
              "Overall rank                    0\n",
              "Country or region               0\n",
              "Score                           0\n",
              "GDP per capita                  0\n",
              "Social support                  0\n",
              "Healthy life expectancy         0\n",
              "Freedom to make life choices    0\n",
              "Generosity                      0\n",
              "Perceptions of corruption       0\n",
              "dtype: int64"
            ]
          },
          "metadata": {
            "tags": []
          },
          "execution_count": 24
        }
      ]
    },
    {
      "cell_type": "markdown",
      "metadata": {
        "id": "o93FaGFr3t2K",
        "colab_type": "text"
      },
      "source": [
        "### **Removing Duplicates**"
      ]
    },
    {
      "cell_type": "code",
      "metadata": {
        "id": "KH_yiYuCF_ZU",
        "colab_type": "code",
        "colab": {
          "base_uri": "https://localhost:8080/",
          "height": 34
        },
        "outputId": "434aff1b-00a8-4f17-cb87-091a96608230"
      },
      "source": [
        "duplicates = data2019.duplicated([\"Overall rank\",\"Country or region\"])\n",
        "print(\"Number of duplicate rows = \"+str(duplicates.sum()))"
      ],
      "execution_count": null,
      "outputs": [
        {
          "output_type": "stream",
          "text": [
            "Number of duplicate rows = 0\n"
          ],
          "name": "stdout"
        }
      ]
    },
    {
      "cell_type": "markdown",
      "metadata": {
        "id": "Uc3o2q7kN6Pv",
        "colab_type": "text"
      },
      "source": [
        "### **Basic Statistics**"
      ]
    },
    {
      "cell_type": "code",
      "metadata": {
        "id": "z3M4scOUOC3c",
        "colab_type": "code",
        "colab": {
          "base_uri": "https://localhost:8080/",
          "height": 314
        },
        "outputId": "115f77ec-1971-41d7-c573-34542dbe30c6"
      },
      "source": [
        "data2019.describe()"
      ],
      "execution_count": null,
      "outputs": [
        {
          "output_type": "execute_result",
          "data": {
            "text/html": [
              "<div>\n",
              "<style scoped>\n",
              "    .dataframe tbody tr th:only-of-type {\n",
              "        vertical-align: middle;\n",
              "    }\n",
              "\n",
              "    .dataframe tbody tr th {\n",
              "        vertical-align: top;\n",
              "    }\n",
              "\n",
              "    .dataframe thead th {\n",
              "        text-align: right;\n",
              "    }\n",
              "</style>\n",
              "<table border=\"1\" class=\"dataframe\">\n",
              "  <thead>\n",
              "    <tr style=\"text-align: right;\">\n",
              "      <th></th>\n",
              "      <th>Overall rank</th>\n",
              "      <th>Score</th>\n",
              "      <th>GDP per capita</th>\n",
              "      <th>Social support</th>\n",
              "      <th>Healthy life expectancy</th>\n",
              "      <th>Freedom to make life choices</th>\n",
              "      <th>Generosity</th>\n",
              "      <th>Perceptions of corruption</th>\n",
              "    </tr>\n",
              "  </thead>\n",
              "  <tbody>\n",
              "    <tr>\n",
              "      <th>count</th>\n",
              "      <td>156.000000</td>\n",
              "      <td>156.000000</td>\n",
              "      <td>156.000000</td>\n",
              "      <td>156.000000</td>\n",
              "      <td>156.000000</td>\n",
              "      <td>156.000000</td>\n",
              "      <td>156.000000</td>\n",
              "      <td>156.000000</td>\n",
              "    </tr>\n",
              "    <tr>\n",
              "      <th>mean</th>\n",
              "      <td>78.500000</td>\n",
              "      <td>5.407096</td>\n",
              "      <td>0.905147</td>\n",
              "      <td>1.208814</td>\n",
              "      <td>0.725244</td>\n",
              "      <td>0.392571</td>\n",
              "      <td>0.184846</td>\n",
              "      <td>0.110603</td>\n",
              "    </tr>\n",
              "    <tr>\n",
              "      <th>std</th>\n",
              "      <td>45.177428</td>\n",
              "      <td>1.113120</td>\n",
              "      <td>0.398389</td>\n",
              "      <td>0.299191</td>\n",
              "      <td>0.242124</td>\n",
              "      <td>0.143289</td>\n",
              "      <td>0.095254</td>\n",
              "      <td>0.094538</td>\n",
              "    </tr>\n",
              "    <tr>\n",
              "      <th>min</th>\n",
              "      <td>1.000000</td>\n",
              "      <td>2.853000</td>\n",
              "      <td>0.000000</td>\n",
              "      <td>0.000000</td>\n",
              "      <td>0.000000</td>\n",
              "      <td>0.000000</td>\n",
              "      <td>0.000000</td>\n",
              "      <td>0.000000</td>\n",
              "    </tr>\n",
              "    <tr>\n",
              "      <th>25%</th>\n",
              "      <td>39.750000</td>\n",
              "      <td>4.544500</td>\n",
              "      <td>0.602750</td>\n",
              "      <td>1.055750</td>\n",
              "      <td>0.547750</td>\n",
              "      <td>0.308000</td>\n",
              "      <td>0.108750</td>\n",
              "      <td>0.047000</td>\n",
              "    </tr>\n",
              "    <tr>\n",
              "      <th>50%</th>\n",
              "      <td>78.500000</td>\n",
              "      <td>5.379500</td>\n",
              "      <td>0.960000</td>\n",
              "      <td>1.271500</td>\n",
              "      <td>0.789000</td>\n",
              "      <td>0.417000</td>\n",
              "      <td>0.177500</td>\n",
              "      <td>0.085500</td>\n",
              "    </tr>\n",
              "    <tr>\n",
              "      <th>75%</th>\n",
              "      <td>117.250000</td>\n",
              "      <td>6.184500</td>\n",
              "      <td>1.232500</td>\n",
              "      <td>1.452500</td>\n",
              "      <td>0.881750</td>\n",
              "      <td>0.507250</td>\n",
              "      <td>0.248250</td>\n",
              "      <td>0.141250</td>\n",
              "    </tr>\n",
              "    <tr>\n",
              "      <th>max</th>\n",
              "      <td>156.000000</td>\n",
              "      <td>7.769000</td>\n",
              "      <td>1.684000</td>\n",
              "      <td>1.624000</td>\n",
              "      <td>1.141000</td>\n",
              "      <td>0.631000</td>\n",
              "      <td>0.566000</td>\n",
              "      <td>0.453000</td>\n",
              "    </tr>\n",
              "  </tbody>\n",
              "</table>\n",
              "</div>"
            ],
            "text/plain": [
              "       Overall rank       Score  ...  Generosity  Perceptions of corruption\n",
              "count    156.000000  156.000000  ...  156.000000                 156.000000\n",
              "mean      78.500000    5.407096  ...    0.184846                   0.110603\n",
              "std       45.177428    1.113120  ...    0.095254                   0.094538\n",
              "min        1.000000    2.853000  ...    0.000000                   0.000000\n",
              "25%       39.750000    4.544500  ...    0.108750                   0.047000\n",
              "50%       78.500000    5.379500  ...    0.177500                   0.085500\n",
              "75%      117.250000    6.184500  ...    0.248250                   0.141250\n",
              "max      156.000000    7.769000  ...    0.566000                   0.453000\n",
              "\n",
              "[8 rows x 8 columns]"
            ]
          },
          "metadata": {
            "tags": []
          },
          "execution_count": 66
        }
      ]
    },
    {
      "cell_type": "markdown",
      "metadata": {
        "id": "00LcPDLE5vvc",
        "colab_type": "text"
      },
      "source": [
        "### **Correlations Between the Data**"
      ]
    },
    {
      "cell_type": "code",
      "metadata": {
        "id": "Dr4nUFq04L_Y",
        "colab_type": "code",
        "colab": {
          "base_uri": "https://localhost:8080/",
          "height": 623
        },
        "outputId": "ee4dac17-c909-4dd3-d9d2-7a0d4cd4797c"
      },
      "source": [
        "plt.rcParams['figure.figsize'] = (12, 8)\n",
        "sns.heatmap(data2019.corr(), cmap = 'copper', annot = True)\n",
        "\n",
        "plt.show()"
      ],
      "execution_count": null,
      "outputs": [
        {
          "output_type": "display_data",
          "data": {
            "image/png": "[encoded data removed]",
            "text/plain": [
              "<Figure size 864x576 with 2 Axes>"
            ]
          },
          "metadata": {
            "tags": [],
            "needs_background": "light"
          }
        }
      ]
    },
    {
      "cell_type": "markdown",
      "metadata": {
        "id": "4W4Pfcya6ijw",
        "colab_type": "text"
      },
      "source": [
        "From the above Heat Map we can observe the Happiness Score from 2019 being highly correlated with **economy**, **social support**, **health** and somewhat related to **Freedom**. It can also be seen how it has a very low relation on average with trust in government and generosity which produced the lowest impact on happiess."
      ]
    },
    {
      "cell_type": "markdown",
      "metadata": {
        "id": "HG8GrAwyCKbf",
        "colab_type": "text"
      },
      "source": [
        "### **Correlation Columns for the Happiness Score**"
      ]
    },
    {
      "cell_type": "code",
      "metadata": {
        "id": "WbzclCm4CN7N",
        "colab_type": "code",
        "colab": {
          "base_uri": "https://localhost:8080/",
          "height": 909
        },
        "outputId": "b54852db-45f1-427c-b02f-490180e9ae43"
      },
      "source": [
        "plt.clf()\n",
        "\n",
        "plt.figure(figsize=(14,13));\n",
        "\n",
        "plt.subplot(3,1,1);      # 1st row \n",
        "plt.scatter(data2019['Score'], data2019['GDP per capita'], color='g');\n",
        "plt.xlabel(\"Happiness Score\");\n",
        "plt.ylabel(\"Economy\");\n",
        "\n",
        "plt.subplot(3,1,2);     # 2nd row\n",
        "plt.scatter(data2019['Score'], data2019['Social support'], color='black');\n",
        "plt.xlabel(\"Happiness Score\");\n",
        "plt.ylabel(\"Social support\");\n",
        "\n",
        "plt.subplot(3,1,3);     # 3rd row\n",
        "plt.scatter(data2019['Score'], data2019['Healthy life expectancy'], color='b');\n",
        "plt.xlabel(\"Happiness Score\");\n",
        "plt.ylabel(\"Health\");\n",
        "\n",
        "\n",
        "plt.suptitle(\"Economy / Social Support / Healthy Life Expectancy\",fontsize=18)\n",
        "plt.tight_layout()\n",
        "plt.show()"
      ],
      "execution_count": null,
      "outputs": [
        {
          "output_type": "display_data",
          "data": {
            "text/plain": [
              "<Figure size 864x576 with 0 Axes>"
            ]
          },
          "metadata": {
            "tags": []
          }
        },
        {
          "output_type": "display_data",
          "data": {
            "image/png": "[encoded data removed]",
            "text/plain": [
              "<Figure size 1008x936 with 3 Axes>"
            ]
          },
          "metadata": {
            "tags": [],
            "needs_background": "light"
          }
        }
      ]
    },
    {
      "cell_type": "markdown",
      "metadata": {
        "id": "IBPhQuTWZ3bO",
        "colab_type": "text"
      },
      "source": [
        "From the graphs above it can be observed that as more Economy, Social Support and a Healthy Life Expectancy a country possess the happier its people are."
      ]
    },
    {
      "cell_type": "markdown",
      "metadata": {
        "id": "DpX_wikC969A",
        "colab_type": "text"
      },
      "source": [
        "### **Geographic Visualization of Happiness Score**"
      ]
    },
    {
      "cell_type": "code",
      "metadata": {
        "id": "z6f2YVuR565g",
        "colab_type": "code",
        "colab": {
          "base_uri": "https://localhost:8080/",
          "height": 542
        },
        "outputId": "baf34e65-e4f3-4770-d12d-59371bde932d"
      },
      "source": [
        "data = dict(type = 'choropleth', \n",
        "           locations = data2019['Country or region'],\n",
        "           locationmode = 'country names',\n",
        "           colorscale='RdYlGn',\n",
        "           z = data2019['Score'], \n",
        "           text = data2019['Country or region'],\n",
        "           colorbar = {'title':'Happiness'})\n",
        "\n",
        "layout = dict(title = 'Geographical Visualization of Happiness Score', \n",
        "              geo = dict(showframe = True, projection = {'type': 'azimuthal equal area'}))\n",
        "\n",
        "choromap3 = go.Figure(data = [data], layout=layout)\n",
        "iplot(choromap3)"
      ],
      "execution_count": null,
      "outputs": [
        {
          "output_type": "display_data",
          "data": {
            "text/html": [
              "<html>\n",
              "<head><meta charset=\"utf-8\" /></head>\n",
              "<body>\n",
              "    <div>\n",
              "            <script src=\"https://cdnjs.cloudflare.com/ajax/libs/mathjax/2.7.5/MathJax.js?config=TeX-AMS-MML_SVG\"></script><script type=\"text/javascript\">if (window.MathJax) {MathJax.Hub.Config({SVG: {font: \"STIX-Web\"}});}</script>\n",
              "                <script type=\"text/javascript\">window.PlotlyConfig = {MathJaxConfig: 'local'};</script>\n",
              "        <script src=\"https://cdn.plot.ly/plotly-latest.min.js\"></script>    \n",
              "            <div id=\"903368a5-f48e-42af-a35d-f2cfe1b1cc28\" class=\"plotly-graph-div\" style=\"height:525px; width:100%;\"></div>\n",
              "            <script type=\"text/javascript\">\n",
              "                \n",
              "                    window.PLOTLYENV=window.PLOTLYENV || {};\n",
              "                    \n",
              "                if (document.getElementById(\"903368a5-f48e-42af-a35d-f2cfe1b1cc28\")) {\n",
              "                    Plotly.newPlot(\n",
              "                        '903368a5-f48e-42af-a35d-f2cfe1b1cc28',\n",
              "                        [{\"colorbar\": {\"title\": {\"text\": \"Happiness Score\"}}, \"colorscale\": [[0.0, \"rgb(165,0,38)\"], [0.1, \"rgb(215,48,39)\"], [0.2, \"rgb(244,109,67)\"], [0.3, \"rgb(253,174,97)\"], [0.4, \"rgb(254,224,139)\"], [0.5, \"rgb(255,255,191)\"], [0.6, \"rgb(217,239,139)\"], [0.7, \"rgb(166,217,106)\"], [0.8, \"rgb(102,189,99)\"], [0.9, \"rgb(26,152,80)\"], [1.0, \"rgb(0,104,55)\"]], \"locationmode\": \"country names\", \"locations\": [\"Finland\", \"Denmark\", \"Norway\", \"Iceland\", \"Netherlands\", \"Switzerland\", \"Sweden\", \"New Zealand\", \"Canada\", \"Austria\", \"Australia\", \"Costa Rica\", \"Israel\", \"Luxembourg\", \"United Kingdom\", \"Ireland\", \"Germany\", \"Belgium\", \"United States\", \"Czech Republic\", \"United Arab Emirates\", \"Malta\", \"Mexico\", \"France\", \"Taiwan\", \"Chile\", \"Guatemala\", \"Saudi Arabia\", \"Qatar\", \"Spain\", \"Panama\", \"Brazil\", \"Uruguay\", \"Singapore\", \"El Salvador\", \"Italy\", \"Bahrain\", \"Slovakia\", \"Trinidad & Tobago\", \"Poland\", \"Uzbekistan\", \"Lithuania\", \"Colombia\", \"Slovenia\", \"Nicaragua\", \"Kosovo\", \"Argentina\", \"Romania\", \"Cyprus\", \"Ecuador\", \"Kuwait\", \"Thailand\", \"Latvia\", \"South Korea\", \"Estonia\", \"Jamaica\", \"Mauritius\", \"Japan\", \"Honduras\", \"Kazakhstan\", \"Bolivia\", \"Hungary\", \"Paraguay\", \"Northern Cyprus\", \"Peru\", \"Portugal\", \"Pakistan\", \"Russia\", \"Philippines\", \"Serbia\", \"Moldova\", \"Libya\", \"Montenegro\", \"Tajikistan\", \"Croatia\", \"Hong Kong\", \"Dominican Republic\", \"Bosnia and Herzegovina\", \"Turkey\", \"Malaysia\", \"Belarus\", \"Greece\", \"Mongolia\", \"North Macedonia\", \"Nigeria\", \"Kyrgyzstan\", \"Turkmenistan\", \"Algeria\", \"Morocco\", \"Azerbaijan\", \"Lebanon\", \"Indonesia\", \"China\", \"Vietnam\", \"Bhutan\", \"Cameroon\", \"Bulgaria\", \"Ghana\", \"Ivory Coast\", \"Nepal\", \"Jordan\", \"Benin\", \"Congo (Brazzaville)\", \"Gabon\", \"Laos\", \"South Africa\", \"Albania\", \"Venezuela\", \"Cambodia\", \"Palestinian Territories\", \"Senegal\", \"Somalia\", \"Namibia\", \"Niger\", \"Burkina Faso\", \"Armenia\", \"Iran\", \"Guinea\", \"Georgia\", \"Gambia\", \"Kenya\", \"Mauritania\", \"Mozambique\", \"Tunisia\", \"Bangladesh\", \"Iraq\", \"Congo (Kinshasa)\", \"Mali\", \"Sierra Leone\", \"Sri Lanka\", \"Myanmar\", \"Chad\", \"Ukraine\", \"Ethiopia\", \"Swaziland\", \"Uganda\", \"Egypt\", \"Zambia\", \"Togo\", \"India\", \"Liberia\", \"Comoros\", \"Madagascar\", \"Lesotho\", \"Burundi\", \"Zimbabwe\", \"Haiti\", \"Botswana\", \"Syria\", \"Malawi\", \"Yemen\", \"Rwanda\", \"Tanzania\", \"Afghanistan\", \"Central African Republic\", \"South Sudan\"], \"text\": [\"Finland\", \"Denmark\", \"Norway\", \"Iceland\", \"Netherlands\", \"Switzerland\", \"Sweden\", \"New Zealand\", \"Canada\", \"Austria\", \"Australia\", \"Costa Rica\", \"Israel\", \"Luxembourg\", \"United Kingdom\", \"Ireland\", \"Germany\", \"Belgium\", \"United States\", \"Czech Republic\", \"United Arab Emirates\", \"Malta\", \"Mexico\", \"France\", \"Taiwan\", \"Chile\", \"Guatemala\", \"Saudi Arabia\", \"Qatar\", \"Spain\", \"Panama\", \"Brazil\", \"Uruguay\", \"Singapore\", \"El Salvador\", \"Italy\", \"Bahrain\", \"Slovakia\", \"Trinidad & Tobago\", \"Poland\", \"Uzbekistan\", \"Lithuania\", \"Colombia\", \"Slovenia\", \"Nicaragua\", \"Kosovo\", \"Argentina\", \"Romania\", \"Cyprus\", \"Ecuador\", \"Kuwait\", \"Thailand\", \"Latvia\", \"South Korea\", \"Estonia\", \"Jamaica\", \"Mauritius\", \"Japan\", \"Honduras\", \"Kazakhstan\", \"Bolivia\", \"Hungary\", \"Paraguay\", \"Northern Cyprus\", \"Peru\", \"Portugal\", \"Pakistan\", \"Russia\", \"Philippines\", \"Serbia\", \"Moldova\", \"Libya\", \"Montenegro\", \"Tajikistan\", \"Croatia\", \"Hong Kong\", \"Dominican Republic\", \"Bosnia and Herzegovina\", \"Turkey\", \"Malaysia\", \"Belarus\", \"Greece\", \"Mongolia\", \"North Macedonia\", \"Nigeria\", \"Kyrgyzstan\", \"Turkmenistan\", \"Algeria\", \"Morocco\", \"Azerbaijan\", \"Lebanon\", \"Indonesia\", \"China\", \"Vietnam\", \"Bhutan\", \"Cameroon\", \"Bulgaria\", \"Ghana\", \"Ivory Coast\", \"Nepal\", \"Jordan\", \"Benin\", \"Congo (Brazzaville)\", \"Gabon\", \"Laos\", \"South Africa\", \"Albania\", \"Venezuela\", \"Cambodia\", \"Palestinian Territories\", \"Senegal\", \"Somalia\", \"Namibia\", \"Niger\", \"Burkina Faso\", \"Armenia\", \"Iran\", \"Guinea\", \"Georgia\", \"Gambia\", \"Kenya\", \"Mauritania\", \"Mozambique\", \"Tunisia\", \"Bangladesh\", \"Iraq\", \"Congo (Kinshasa)\", \"Mali\", \"Sierra Leone\", \"Sri Lanka\", \"Myanmar\", \"Chad\", \"Ukraine\", \"Ethiopia\", \"Swaziland\", \"Uganda\", \"Egypt\", \"Zambia\", \"Togo\", \"India\", \"Liberia\", \"Comoros\", \"Madagascar\", \"Lesotho\", \"Burundi\", \"Zimbabwe\", \"Haiti\", \"Botswana\", \"Syria\", \"Malawi\", \"Yemen\", \"Rwanda\", \"Tanzania\", \"Afghanistan\", \"Central African Republic\", \"South Sudan\"], \"type\": \"choropleth\", \"z\": [7.769, 7.6, 7.553999999999999, 7.494, 7.4879999999999995, 7.48, 7.343, 7.307, 7.278, 7.246, 7.228, 7.167000000000001, 7.138999999999999, 7.09, 7.053999999999999, 7.021, 6.985, 6.922999999999999, 6.892, 6.852, 6.825, 6.726, 6.595, 6.5920000000000005, 6.446000000000001, 6.444, 6.436, 6.375, 6.374, 6.354, 6.321000000000001, 6.3, 6.292999999999999, 6.2620000000000005, 6.252999999999999, 6.223, 6.199, 6.1979999999999995, 6.192, 6.182, 6.1739999999999995, 6.149, 6.125, 6.117999999999999, 6.105, 6.1, 6.086, 6.07, 6.046, 6.028, 6.021, 6.007999999999999, 5.94, 5.895, 5.893, 5.89, 5.888, 5.886, 5.86, 5.809, 5.779, 5.757999999999999, 5.742999999999999, 5.718, 5.697, 5.693, 5.653, 5.648, 5.631, 5.603, 5.529, 5.525, 5.523, 5.4670000000000005, 5.432, 5.43, 5.425, 5.386, 5.372999999999999, 5.3389999999999995, 5.3229999999999995, 5.287000000000001, 5.285, 5.274, 5.265, 5.261, 5.247000000000001, 5.211, 5.207999999999999, 5.207999999999999, 5.197, 5.192, 5.191, 5.175, 5.082, 5.044, 5.011, 4.996, 4.944, 4.913, 4.906000000000001, 4.883, 4.812, 4.7989999999999995, 4.796, 4.7219999999999995, 4.718999999999999, 4.707, 4.7, 4.696000000000001, 4.681, 4.668, 4.638999999999999, 4.628, 4.587, 4.559, 4.548, 4.534, 4.519, 4.516, 4.5089999999999995, 4.49, 4.466, 4.461, 4.456, 4.437, 4.418, 4.39, 4.374, 4.3660000000000005, 4.36, 4.35, 4.332, 4.2860000000000005, 4.212, 4.189, 4.166, 4.107, 4.085, 4.015, 3.975, 3.9730000000000003, 3.9330000000000003, 3.802, 3.775, 3.6630000000000003, 3.597, 3.488, 3.4619999999999997, 3.41, 3.38, 3.3339999999999996, 3.2310000000000003, 3.2030000000000003, 3.083, 2.853]}],\n",
              "                        {\"geo\": {\"projection\": {\"type\": \"azimuthal equal area\"}, \"showframe\": true}, \"template\": {\"data\": {\"bar\": [{\"error_x\": {\"color\": \"#2a3f5f\"}, \"error_y\": {\"color\": \"#2a3f5f\"}, \"marker\": {\"line\": {\"color\": \"#E5ECF6\", \"width\": 0.5}}, \"type\": \"bar\"}], \"barpolar\": [{\"marker\": {\"line\": {\"color\": \"#E5ECF6\", \"width\": 0.5}}, \"type\": \"barpolar\"}], \"carpet\": [{\"aaxis\": {\"endlinecolor\": \"#2a3f5f\", \"gridcolor\": \"white\", \"linecolor\": \"white\", \"minorgridcolor\": \"white\", \"startlinecolor\": \"#2a3f5f\"}, \"baxis\": {\"endlinecolor\": \"#2a3f5f\", \"gridcolor\": \"white\", \"linecolor\": \"white\", \"minorgridcolor\": \"white\", \"startlinecolor\": \"#2a3f5f\"}, \"type\": \"carpet\"}], \"choropleth\": [{\"colorbar\": {\"outlinewidth\": 0, \"ticks\": \"\"}, \"type\": \"choropleth\"}], \"contour\": [{\"colorbar\": {\"outlinewidth\": 0, \"ticks\": \"\"}, \"colorscale\": [[0.0, \"#0d0887\"], [0.1111111111111111, \"#46039f\"], [0.2222222222222222, \"#7201a8\"], [0.3333333333333333, \"#9c179e\"], [0.4444444444444444, \"#bd3786\"], [0.5555555555555556, \"#d8576b\"], [0.6666666666666666, \"#ed7953\"], [0.7777777777777778, \"#fb9f3a\"], [0.8888888888888888, \"#fdca26\"], [1.0, \"#f0f921\"]], \"type\": \"contour\"}], \"contourcarpet\": [{\"colorbar\": {\"outlinewidth\": 0, \"ticks\": \"\"}, \"type\": \"contourcarpet\"}], \"heatmap\": [{\"colorbar\": {\"outlinewidth\": 0, \"ticks\": \"\"}, \"colorscale\": [[0.0, \"#0d0887\"], [0.1111111111111111, \"#46039f\"], [0.2222222222222222, \"#7201a8\"], [0.3333333333333333, \"#9c179e\"], [0.4444444444444444, \"#bd3786\"], [0.5555555555555556, \"#d8576b\"], [0.6666666666666666, \"#ed7953\"], [0.7777777777777778, \"#fb9f3a\"], [0.8888888888888888, \"#fdca26\"], [1.0, \"#f0f921\"]], \"type\": \"heatmap\"}], \"heatmapgl\": [{\"colorbar\": {\"outlinewidth\": 0, \"ticks\": \"\"}, \"colorscale\": [[0.0, \"#0d0887\"], [0.1111111111111111, \"#46039f\"], [0.2222222222222222, \"#7201a8\"], [0.3333333333333333, \"#9c179e\"], [0.4444444444444444, \"#bd3786\"], [0.5555555555555556, \"#d8576b\"], [0.6666666666666666, \"#ed7953\"], [0.7777777777777778, \"#fb9f3a\"], [0.8888888888888888, \"#fdca26\"], [1.0, \"#f0f921\"]], \"type\": \"heatmapgl\"}], \"histogram\": [{\"marker\": {\"colorbar\": {\"outlinewidth\": 0, \"ticks\": \"\"}}, \"type\": \"histogram\"}], \"histogram2d\": [{\"colorbar\": {\"outlinewidth\": 0, \"ticks\": \"\"}, \"colorscale\": [[0.0, \"#0d0887\"], [0.1111111111111111, \"#46039f\"], [0.2222222222222222, \"#7201a8\"], [0.3333333333333333, \"#9c179e\"], [0.4444444444444444, \"#bd3786\"], [0.5555555555555556, \"#d8576b\"], [0.6666666666666666, \"#ed7953\"], [0.7777777777777778, \"#fb9f3a\"], [0.8888888888888888, \"#fdca26\"], [1.0, \"#f0f921\"]], \"type\": \"histogram2d\"}], \"histogram2dcontour\": [{\"colorbar\": {\"outlinewidth\": 0, \"ticks\": \"\"}, \"colorscale\": [[0.0, \"#0d0887\"], [0.1111111111111111, \"#46039f\"], [0.2222222222222222, \"#7201a8\"], [0.3333333333333333, \"#9c179e\"], [0.4444444444444444, \"#bd3786\"], [0.5555555555555556, \"#d8576b\"], [0.6666666666666666, \"#ed7953\"], [0.7777777777777778, \"#fb9f3a\"], [0.8888888888888888, \"#fdca26\"], [1.0, \"#f0f921\"]], \"type\": \"histogram2dcontour\"}], \"mesh3d\": [{\"colorbar\": {\"outlinewidth\": 0, \"ticks\": \"\"}, \"type\": \"mesh3d\"}], \"parcoords\": [{\"line\": {\"colorbar\": {\"outlinewidth\": 0, \"ticks\": \"\"}}, \"type\": \"parcoords\"}], \"pie\": [{\"automargin\": true, \"type\": \"pie\"}], \"scatter\": [{\"marker\": {\"colorbar\": {\"outlinewidth\": 0, \"ticks\": \"\"}}, \"type\": \"scatter\"}], \"scatter3d\": [{\"line\": {\"colorbar\": {\"outlinewidth\": 0, \"ticks\": \"\"}}, \"marker\": {\"colorbar\": {\"outlinewidth\": 0, \"ticks\": \"\"}}, \"type\": \"scatter3d\"}], \"scattercarpet\": [{\"marker\": {\"colorbar\": {\"outlinewidth\": 0, \"ticks\": \"\"}}, \"type\": \"scattercarpet\"}], \"scattergeo\": [{\"marker\": {\"colorbar\": {\"outlinewidth\": 0, \"ticks\": \"\"}}, \"type\": \"scattergeo\"}], \"scattergl\": [{\"marker\": {\"colorbar\": {\"outlinewidth\": 0, \"ticks\": \"\"}}, \"type\": \"scattergl\"}], \"scattermapbox\": [{\"marker\": {\"colorbar\": {\"outlinewidth\": 0, \"ticks\": \"\"}}, \"type\": \"scattermapbox\"}], \"scatterpolar\": [{\"marker\": {\"colorbar\": {\"outlinewidth\": 0, \"ticks\": \"\"}}, \"type\": \"scatterpolar\"}], \"scatterpolargl\": [{\"marker\": {\"colorbar\": {\"outlinewidth\": 0, \"ticks\": \"\"}}, \"type\": \"scatterpolargl\"}], \"scatterternary\": [{\"marker\": {\"colorbar\": {\"outlinewidth\": 0, \"ticks\": \"\"}}, \"type\": \"scatterternary\"}], \"surface\": [{\"colorbar\": {\"outlinewidth\": 0, \"ticks\": \"\"}, \"colorscale\": [[0.0, \"#0d0887\"], [0.1111111111111111, \"#46039f\"], [0.2222222222222222, \"#7201a8\"], [0.3333333333333333, \"#9c179e\"], [0.4444444444444444, \"#bd3786\"], [0.5555555555555556, \"#d8576b\"], [0.6666666666666666, \"#ed7953\"], [0.7777777777777778, \"#fb9f3a\"], [0.8888888888888888, \"#fdca26\"], [1.0, \"#f0f921\"]], \"type\": \"surface\"}], \"table\": [{\"cells\": {\"fill\": {\"color\": \"#EBF0F8\"}, \"line\": {\"color\": \"white\"}}, \"header\": {\"fill\": {\"color\": \"#C8D4E3\"}, \"line\": {\"color\": \"white\"}}, \"type\": \"table\"}]}, \"layout\": {\"annotationdefaults\": {\"arrowcolor\": \"#2a3f5f\", \"arrowhead\": 0, \"arrowwidth\": 1}, \"coloraxis\": {\"colorbar\": {\"outlinewidth\": 0, \"ticks\": \"\"}}, \"colorscale\": {\"diverging\": [[0, \"#8e0152\"], [0.1, \"#c51b7d\"], [0.2, \"#de77ae\"], [0.3, \"#f1b6da\"], [0.4, \"#fde0ef\"], [0.5, \"#f7f7f7\"], [0.6, \"#e6f5d0\"], [0.7, \"#b8e186\"], [0.8, \"#7fbc41\"], [0.9, \"#4d9221\"], [1, \"#276419\"]], \"sequential\": [[0.0, \"#0d0887\"], [0.1111111111111111, \"#46039f\"], [0.2222222222222222, \"#7201a8\"], [0.3333333333333333, \"#9c179e\"], [0.4444444444444444, \"#bd3786\"], [0.5555555555555556, \"#d8576b\"], [0.6666666666666666, \"#ed7953\"], [0.7777777777777778, \"#fb9f3a\"], [0.8888888888888888, \"#fdca26\"], [1.0, \"#f0f921\"]], \"sequentialminus\": [[0.0, \"#0d0887\"], [0.1111111111111111, \"#46039f\"], [0.2222222222222222, \"#7201a8\"], [0.3333333333333333, \"#9c179e\"], [0.4444444444444444, \"#bd3786\"], [0.5555555555555556, \"#d8576b\"], [0.6666666666666666, \"#ed7953\"], [0.7777777777777778, \"#fb9f3a\"], [0.8888888888888888, \"#fdca26\"], [1.0, \"#f0f921\"]]}, \"colorway\": [\"#636efa\", \"#EF553B\", \"#00cc96\", \"#ab63fa\", \"#FFA15A\", \"#19d3f3\", \"#FF6692\", \"#B6E880\", \"#FF97FF\", \"#FECB52\"], \"font\": {\"color\": \"#2a3f5f\"}, \"geo\": {\"bgcolor\": \"white\", \"lakecolor\": \"white\", \"landcolor\": \"#E5ECF6\", \"showlakes\": true, \"showland\": true, \"subunitcolor\": \"white\"}, \"hoverlabel\": {\"align\": \"left\"}, \"hovermode\": \"closest\", \"mapbox\": {\"style\": \"light\"}, \"paper_bgcolor\": \"white\", \"plot_bgcolor\": \"#E5ECF6\", \"polar\": {\"angularaxis\": {\"gridcolor\": \"white\", \"linecolor\": \"white\", \"ticks\": \"\"}, \"bgcolor\": \"#E5ECF6\", \"radialaxis\": {\"gridcolor\": \"white\", \"linecolor\": \"white\", \"ticks\": \"\"}}, \"scene\": {\"xaxis\": {\"backgroundcolor\": \"#E5ECF6\", \"gridcolor\": \"white\", \"gridwidth\": 2, \"linecolor\": \"white\", \"showbackground\": true, \"ticks\": \"\", \"zerolinecolor\": \"white\"}, \"yaxis\": {\"backgroundcolor\": \"#E5ECF6\", \"gridcolor\": \"white\", \"gridwidth\": 2, \"linecolor\": \"white\", \"showbackground\": true, \"ticks\": \"\", \"zerolinecolor\": \"white\"}, \"zaxis\": {\"backgroundcolor\": \"#E5ECF6\", \"gridcolor\": \"white\", \"gridwidth\": 2, \"linecolor\": \"white\", \"showbackground\": true, \"ticks\": \"\", \"zerolinecolor\": \"white\"}}, \"shapedefaults\": {\"line\": {\"color\": \"#2a3f5f\"}}, \"ternary\": {\"aaxis\": {\"gridcolor\": \"white\", \"linecolor\": \"white\", \"ticks\": \"\"}, \"baxis\": {\"gridcolor\": \"white\", \"linecolor\": \"white\", \"ticks\": \"\"}, \"bgcolor\": \"#E5ECF6\", \"caxis\": {\"gridcolor\": \"white\", \"linecolor\": \"white\", \"ticks\": \"\"}}, \"title\": {\"x\": 0.05}, \"xaxis\": {\"automargin\": true, \"gridcolor\": \"white\", \"linecolor\": \"white\", \"ticks\": \"\", \"title\": {\"standoff\": 15}, \"zerolinecolor\": \"white\", \"zerolinewidth\": 2}, \"yaxis\": {\"automargin\": true, \"gridcolor\": \"white\", \"linecolor\": \"white\", \"ticks\": \"\", \"title\": {\"standoff\": 15}, \"zerolinecolor\": \"white\", \"zerolinewidth\": 2}}}, \"title\": {\"text\": \"Geographical Visualization of Happiness Score\"}},\n",
              "                        {\"responsive\": true}\n",
              "                    ).then(function(){\n",
              "                            \n",
              "var gd = document.getElementById('903368a5-f48e-42af-a35d-f2cfe1b1cc28');\n",
              "var x = new MutationObserver(function (mutations, observer) {{\n",
              "        var display = window.getComputedStyle(gd).display;\n",
              "        if (!display || display === 'none') {{\n",
              "            console.log([gd, 'removed!']);\n",
              "            Plotly.purge(gd);\n",
              "            observer.disconnect();\n",
              "        }}\n",
              "}});\n",
              "\n",
              "// Listen for the removal of the full notebook cells\n",
              "var notebookContainer = gd.closest('#notebook-container');\n",
              "if (notebookContainer) {{\n",
              "    x.observe(notebookContainer, {childList: true});\n",
              "}}\n",
              "\n",
              "// Listen for the clearing of the current output cell\n",
              "var outputEl = gd.closest('.output');\n",
              "if (outputEl) {{\n",
              "    x.observe(outputEl, {childList: true});\n",
              "}}\n",
              "\n",
              "                        })\n",
              "                };\n",
              "                \n",
              "            </script>\n",
              "        </div>\n",
              "</body>\n",
              "</html>"
            ]
          },
          "metadata": {
            "tags": []
          }
        }
      ]
    },
    {
      "cell_type": "markdown",
      "metadata": {
        "id": "tJNtzKpy_tuM",
        "colab_type": "text"
      },
      "source": [
        "From the above world map we can observe how Europe, Oceania and the American continent are the top 3 happiest continents in the world, leaving Asia and Africa as the unhappiest. Its also interesting to notice how northern countries seem to be very happy.\n",
        "\n"
      ]
    },
    {
      "cell_type": "markdown",
      "metadata": {
        "id": "3xg0p4AQxHzr",
        "colab_type": "text"
      },
      "source": [
        "### **Top 10 Happiest Countries of 2019**"
      ]
    },
    {
      "cell_type": "code",
      "metadata": {
        "id": "TiuhbrLG_KW4",
        "colab_type": "code",
        "colab": {
          "base_uri": "https://localhost:8080/",
          "height": 359
        },
        "outputId": "b5f9f4b1-79d3-4a17-e7ef-c5eba000683a"
      },
      "source": [
        "data2019[['Country or region', 'Score']].sort_values(by = 'Score', ascending = False).head(10)"
      ],
      "execution_count": null,
      "outputs": [
        {
          "output_type": "execute_result",
          "data": {
            "text/html": [
              "<div>\n",
              "<style scoped>\n",
              "    .dataframe tbody tr th:only-of-type {\n",
              "        vertical-align: middle;\n",
              "    }\n",
              "\n",
              "    .dataframe tbody tr th {\n",
              "        vertical-align: top;\n",
              "    }\n",
              "\n",
              "    .dataframe thead th {\n",
              "        text-align: right;\n",
              "    }\n",
              "</style>\n",
              "<table border=\"1\" class=\"dataframe\">\n",
              "  <thead>\n",
              "    <tr style=\"text-align: right;\">\n",
              "      <th></th>\n",
              "      <th>Country or region</th>\n",
              "      <th>Score</th>\n",
              "    </tr>\n",
              "  </thead>\n",
              "  <tbody>\n",
              "    <tr>\n",
              "      <th>0</th>\n",
              "      <td>Finland</td>\n",
              "      <td>7.769</td>\n",
              "    </tr>\n",
              "    <tr>\n",
              "      <th>1</th>\n",
              "      <td>Denmark</td>\n",
              "      <td>7.600</td>\n",
              "    </tr>\n",
              "    <tr>\n",
              "      <th>2</th>\n",
              "      <td>Norway</td>\n",
              "      <td>7.554</td>\n",
              "    </tr>\n",
              "    <tr>\n",
              "      <th>3</th>\n",
              "      <td>Iceland</td>\n",
              "      <td>7.494</td>\n",
              "    </tr>\n",
              "    <tr>\n",
              "      <th>4</th>\n",
              "      <td>Netherlands</td>\n",
              "      <td>7.488</td>\n",
              "    </tr>\n",
              "    <tr>\n",
              "      <th>5</th>\n",
              "      <td>Switzerland</td>\n",
              "      <td>7.480</td>\n",
              "    </tr>\n",
              "    <tr>\n",
              "      <th>6</th>\n",
              "      <td>Sweden</td>\n",
              "      <td>7.343</td>\n",
              "    </tr>\n",
              "    <tr>\n",
              "      <th>7</th>\n",
              "      <td>New Zealand</td>\n",
              "      <td>7.307</td>\n",
              "    </tr>\n",
              "    <tr>\n",
              "      <th>8</th>\n",
              "      <td>Canada</td>\n",
              "      <td>7.278</td>\n",
              "    </tr>\n",
              "    <tr>\n",
              "      <th>9</th>\n",
              "      <td>Austria</td>\n",
              "      <td>7.246</td>\n",
              "    </tr>\n",
              "  </tbody>\n",
              "</table>\n",
              "</div>"
            ],
            "text/plain": [
              "  Country or region  Score\n",
              "0           Finland  7.769\n",
              "1           Denmark  7.600\n",
              "2            Norway  7.554\n",
              "3           Iceland  7.494\n",
              "4       Netherlands  7.488\n",
              "5       Switzerland  7.480\n",
              "6            Sweden  7.343\n",
              "7       New Zealand  7.307\n",
              "8            Canada  7.278\n",
              "9           Austria  7.246"
            ]
          },
          "metadata": {
            "tags": []
          },
          "execution_count": 13
        }
      ]
    },
    {
      "cell_type": "markdown",
      "metadata": {
        "id": "JdTt5k5bSXft",
        "colab_type": "text"
      },
      "source": [
        "These countries continue to pioneer in social and economic welfare, education and best practices for work which is something of which other countries should take as an example to follow when looking at improving the happiness of their people."
      ]
    },
    {
      "cell_type": "markdown",
      "metadata": {
        "id": "cShhgFUVx1sD",
        "colab_type": "text"
      },
      "source": [
        "### **Top 10 Unhappiest Countries of 2019**"
      ]
    },
    {
      "cell_type": "code",
      "metadata": {
        "id": "srzBeqUDxOJx",
        "colab_type": "code",
        "colab": {
          "base_uri": "https://localhost:8080/",
          "height": 359
        },
        "outputId": "af8ee54f-c01a-4738-ec45-46348ed4bf88"
      },
      "source": [
        "data2019[['Country or region', 'Score']].sort_values(by = 'Score', ascending = True).head(10)"
      ],
      "execution_count": null,
      "outputs": [
        {
          "output_type": "execute_result",
          "data": {
            "text/html": [
              "<div>\n",
              "<style scoped>\n",
              "    .dataframe tbody tr th:only-of-type {\n",
              "        vertical-align: middle;\n",
              "    }\n",
              "\n",
              "    .dataframe tbody tr th {\n",
              "        vertical-align: top;\n",
              "    }\n",
              "\n",
              "    .dataframe thead th {\n",
              "        text-align: right;\n",
              "    }\n",
              "</style>\n",
              "<table border=\"1\" class=\"dataframe\">\n",
              "  <thead>\n",
              "    <tr style=\"text-align: right;\">\n",
              "      <th></th>\n",
              "      <th>Country or region</th>\n",
              "      <th>Score</th>\n",
              "    </tr>\n",
              "  </thead>\n",
              "  <tbody>\n",
              "    <tr>\n",
              "      <th>155</th>\n",
              "      <td>South Sudan</td>\n",
              "      <td>2.853</td>\n",
              "    </tr>\n",
              "    <tr>\n",
              "      <th>154</th>\n",
              "      <td>Central African Republic</td>\n",
              "      <td>3.083</td>\n",
              "    </tr>\n",
              "    <tr>\n",
              "      <th>153</th>\n",
              "      <td>Afghanistan</td>\n",
              "      <td>3.203</td>\n",
              "    </tr>\n",
              "    <tr>\n",
              "      <th>152</th>\n",
              "      <td>Tanzania</td>\n",
              "      <td>3.231</td>\n",
              "    </tr>\n",
              "    <tr>\n",
              "      <th>151</th>\n",
              "      <td>Rwanda</td>\n",
              "      <td>3.334</td>\n",
              "    </tr>\n",
              "    <tr>\n",
              "      <th>150</th>\n",
              "      <td>Yemen</td>\n",
              "      <td>3.380</td>\n",
              "    </tr>\n",
              "    <tr>\n",
              "      <th>149</th>\n",
              "      <td>Malawi</td>\n",
              "      <td>3.410</td>\n",
              "    </tr>\n",
              "    <tr>\n",
              "      <th>148</th>\n",
              "      <td>Syria</td>\n",
              "      <td>3.462</td>\n",
              "    </tr>\n",
              "    <tr>\n",
              "      <th>147</th>\n",
              "      <td>Botswana</td>\n",
              "      <td>3.488</td>\n",
              "    </tr>\n",
              "    <tr>\n",
              "      <th>146</th>\n",
              "      <td>Haiti</td>\n",
              "      <td>3.597</td>\n",
              "    </tr>\n",
              "  </tbody>\n",
              "</table>\n",
              "</div>"
            ],
            "text/plain": [
              "            Country or region  Score\n",
              "155               South Sudan  2.853\n",
              "154  Central African Republic  3.083\n",
              "153               Afghanistan  3.203\n",
              "152                  Tanzania  3.231\n",
              "151                    Rwanda  3.334\n",
              "150                     Yemen  3.380\n",
              "149                    Malawi  3.410\n",
              "148                     Syria  3.462\n",
              "147                  Botswana  3.488\n",
              "146                     Haiti  3.597"
            ]
          },
          "metadata": {
            "tags": []
          },
          "execution_count": 14
        }
      ]
    },
    {
      "cell_type": "markdown",
      "metadata": {
        "id": "vgJ2sbhSTSdr",
        "colab_type": "text"
      },
      "source": [
        "These countries could most definitely lack a good social support, health care system and leadership for their population which deprives them from the comfort of living in a place where all conceivable basic needs are met."
      ]
    },
    {
      "cell_type": "markdown",
      "metadata": {
        "id": "i0LP66Keb0cn",
        "colab_type": "text"
      },
      "source": [
        "### **Happiness Score Levels Pie Chart**"
      ]
    },
    {
      "cell_type": "code",
      "metadata": {
        "id": "WtDYKy-f3zoK",
        "colab_type": "code",
        "colab": {}
      },
      "source": [
        "# Creating a Dataframe with High, Normal and Low categories for the Happiness score of each country.\n",
        "data_mean = pd.DataFrame()\n",
        "\n",
        "score_mean = sum(data2019.Score)/len(data2019.Score)\n",
        "std_score = data2019.Score.std()\n",
        "\n",
        "data_mean[\"Score\"] = data2019.Score\n",
        "data_mean[\"Score_Level\"]=[\"High\" if i>(scoremean+stdscore) \n",
        "                         else \"Normal\" if (scoremean-stdscore)<i<(scoremean+stdscore) \n",
        "                         else \"Low\" for i in data2019.Score]"
      ],
      "execution_count": null,
      "outputs": []
    },
    {
      "cell_type": "code",
      "metadata": {
        "id": "c2kzNvSg_--Y",
        "colab_type": "code",
        "colab": {
          "base_uri": "https://localhost:8080/",
          "height": 609
        },
        "outputId": "e4c9e2ed-a0fc-4385-e28d-55e8fbe9035e"
      },
      "source": [
        "labels=data_mean.Score_Level.value_counts().index\n",
        "colors=(\"lightyellow\",\"red\",\"yellowgreen\")\n",
        "explode=[0,0.1,0.15]\n",
        "sizes=data_mean.Score_Level.value_counts().values\n",
        "\n",
        "plt.figure(figsize=(10,10))\n",
        "plt.pie(sizes,explode=explode,colors=colors,labels=labels,shadow=True,autopct='%1.1f%%')\n",
        "plt.title(\"Score Level of 2019 Pie Chart\",color=\"Black\",fontsize=15)"
      ],
      "execution_count": null,
      "outputs": [
        {
          "output_type": "execute_result",
          "data": {
            "text/plain": [
              "Text(0.5, 1.0, 'Score Level of 2019 Pie Chart')"
            ]
          },
          "metadata": {
            "tags": []
          },
          "execution_count": 67
        },
        {
          "output_type": "display_data",
          "data": {
            "image/png": "[encoded data removed]",
            "text/plain": [
              "<Figure size 720x720 with 1 Axes>"
            ]
          },
          "metadata": {
            "tags": []
          }
        }
      ]
    },
    {
      "cell_type": "markdown",
      "metadata": {
        "id": "GAu45_v6agqR",
        "colab_type": "text"
      },
      "source": [
        "About 84.6% of the Population is content with the way they live in their country"
      ]
    },
    {
      "cell_type": "markdown",
      "metadata": {
        "id": "qN7VOn22OhEw",
        "colab_type": "text"
      },
      "source": [
        "## **Conclusion**\n",
        "Its not easy to define what the word happy means and it can be a difficult task to quantify it. This data may be biased and it probably is but the analysis done on it shows some intresting facts on what factors can't be ignored for the happiness of a country, such as Economy, Social Support and Health, to be present. \n",
        "\n",
        "It is challenging to think of the future and how it'll look like. Due to the world pandemic we currently live in as of 2020, all the important factors that seem to contribute to content are being negatively affected by the virus."
      ]
    }
  ]
}