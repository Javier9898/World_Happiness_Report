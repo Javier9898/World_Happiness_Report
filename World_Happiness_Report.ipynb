{
  "nbformat": 4,
  "nbformat_minor": 0,
  "metadata": {
    "colab": {
      "name": "World Happiness Report",
      "provenance": [],
      "authorship_tag": "ABX9TyPHn61uxvq5MQIfG7TCmFBD",
      "include_colab_link": true
    },
    "kernelspec": {
      "name": "python3",
      "display_name": "Python 3"
    }
  },
  "cells": [
    {
      "cell_type": "markdown",
      "metadata": {
        "id": "view-in-github",
        "colab_type": "text"
      },
      "source": [
        "<a href=\"https://colab.research.google.com/github/Javier9898/World_Happiness_Report/blob/master/World_Happiness_Report.ipynb\" target=\"_parent\"><img src=\"https://colab.research.google.com/assets/colab-badge.svg\" alt=\"Open In Colab\"/></a>"
      ]
    },
    {
      "cell_type": "markdown",
      "metadata": {
        "id": "kjm7spyW-VdL",
        "colab_type": "text"
      },
      "source": [
        "# **World Happiness Report**"
      ]
    },
    {
      "cell_type": "markdown",
      "metadata": {
        "id": "zW_0eKC7_bg_",
        "colab_type": "text"
      },
      "source": [
        "## **Introduction**\n",
        "The dataset chosen for this analysis is \"World Happiness Report\", which is a landmark survey of the state of global happiness that ranks countries by how happy their citizens perceive themselves to be. It contains articles, and rankings of national happiness based on respondent ratings of their own lives,which the report also correlates with various life factors.\n",
        "\n",
        "There are some interesting alternative approaches to measure a country's happiness as it comes in many different forms and for different reasons and it can be a measure of social progress, according to the authors of the 2013 World Happiness Report. It'll be fascinating to see any correlations between hapiness and regions in the world and what factors contribute to this.\n",
        "\n",
        "\n",
        "Credits: https://www.kaggle.com/unsdsn/world-happiness"
      ]
    },
    {
      "cell_type": "markdown",
      "metadata": {
        "id": "TUDJSEXeGYJJ",
        "colab_type": "text"
      },
      "source": [
        "## **Sources**\n",
        "\n",
        "\n",
        "* Dataset: https://www.kaggle.com/unsdsn/world-happiness\n",
        "* Official World Happiness Report site: https://worldhappiness.report/"
      ]
    },
    {
      "cell_type": "markdown",
      "metadata": {
        "id": "plGwlSuDHveC",
        "colab_type": "text"
      },
      "source": [
        "## **Objectives:**\n",
        "Find the answer to the following questions:\n",
        "\n",
        "1.   Are we globally becoming more or less happier each year? \n",
        "2.   Which continent is the happiest? \n",
        "3. Which continent is the least happiest? \n",
        "4. Which of the six factors has the biggest impact on happiness? \n",
        "5. What about the least impact?\n"
      ]
    },
    {
      "cell_type": "code",
      "metadata": {
        "id": "xVSogNxM9c63",
        "colab_type": "code",
        "colab": {}
      },
      "source": [
        ""
      ],
      "execution_count": null,
      "outputs": []
    }
  ]
}